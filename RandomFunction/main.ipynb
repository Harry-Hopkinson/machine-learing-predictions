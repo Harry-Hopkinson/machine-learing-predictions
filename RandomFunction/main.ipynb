{
 "cells": [
  {
   "cell_type": "code",
   "execution_count": null,
   "metadata": {},
   "outputs": [],
   "source": [
    "import numpy as np\n",
    "import pandas as pd\n",
    "import mathplotlib.pyplot as plt"
   ]
  },
  {
   "cell_type": "code",
   "execution_count": null,
   "metadata": {},
   "outputs": [],
   "source": [
    "def randomBinning(count, loopCount, return_string=False):\n",
    "    import numpy as np\n",
    "\n",
    "    sum_count = 0\n",
    "    functionList = []\n",
    "\n",
    "    for i in range(loopCount-1):\n",
    "        function = np.random.randint(0, count+1)\n",
    "        if return_string:\n",
    "            functionList.append(str(function))\n",
    "        else:\n",
    "            functionList.append(function)\n"
   ]
  }
 ],
 "metadata": {
  "language_info": {
   "name": "python"
  },
  "orig_nbformat": 4
 },
 "nbformat": 4,
 "nbformat_minor": 2
}
